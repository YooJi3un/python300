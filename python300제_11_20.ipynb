{
  "nbformat": 4,
  "nbformat_minor": 0,
  "metadata": {
    "colab": {
      "provenance": []
    },
    "kernelspec": {
      "name": "python3",
      "display_name": "Python 3"
    },
    "language_info": {
      "name": "python"
    }
  },
  "cells": [
    {
      "cell_type": "code",
      "execution_count": 3,
      "metadata": {
        "colab": {
          "base_uri": "https://localhost:8080/"
        },
        "id": "sHMy3QsWL8ve",
        "outputId": "9d2f8af3-63ee-46db-ed3e-3dad8480b78c"
      },
      "outputs": [
        {
          "output_type": "stream",
          "name": "stdout",
          "text": [
            "500000\n"
          ]
        }
      ],
      "source": [
        "# 011 변수 사용하기\n",
        "\n",
        "삼성전자 = 50000\n",
        "총평가금액 = 삼성전자 * 10\n",
        "print(총평가금액)"
      ]
    },
    {
      "cell_type": "code",
      "source": [
        "# 012 변수 사용하기\n",
        "\n"
      ],
      "metadata": {
        "id": "69dvpk4TPYBQ"
      },
      "execution_count": null,
      "outputs": []
    }
  ]
}